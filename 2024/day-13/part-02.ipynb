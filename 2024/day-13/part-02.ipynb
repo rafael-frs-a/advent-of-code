{
 "cells": [
  {
   "cell_type": "markdown",
   "metadata": {},
   "source": [
    "### Day 13: Claw Contraption\n",
    "\n",
    "Link: https://adventofcode.com/2024/day/13#part2"
   ]
  },
  {
   "cell_type": "markdown",
   "metadata": {},
   "source": [
    "Given that each prize coordinate is increased by 10131013 and we no longer have the 100-button-hit restriction, the previous brute force approach no longer works. To solve this, the first step is to write each case as a set of equations:\n",
    "\n",
    "```\n",
    "a * ax + b * bx = x\n",
    "a * ay + b * by = y\n",
    "\n",
    "ax -> Amount of coordinate X increased by pushing button A\n",
    "bx -> Amount of coordinate X increased by pushing button B\n",
    "ay -> Amount of coordinate Y increased by pushing button A\n",
    "by -> Amount of coordinate Y increased by pushing button B\n",
    "x -> X coordinate of the prize\n",
    "y -> Y coordinate of the prize\n",
    "a -> Number of times button A is pushed\n",
    "b -> Number of times button B is pushed\n",
    "```\n",
    "\n",
    "The goal is to find positive integers for `a` and `b` that solve the equations, if any exist.\n",
    "\n",
    "One great thing about the Advent of Code is that, since you're running the solution in your own environment, you can use external packages instead of relying solely on built-in methods. In this case, you can solve these equations using [SymPy](https://pypi.org/project/sympy/), a Python library for symbolic mathematics that handles complex equations.\n",
    "\n",
    "Once SymPy provides the possible solutions, if any, you can iterate through them to find the one that requires the least amount of tokens."
   ]
  },
  {
   "cell_type": "code",
   "execution_count": null,
   "metadata": {},
   "outputs": [],
   "source": [
    "!pip install sympy==1.13.3"
   ]
  },
  {
   "cell_type": "code",
   "execution_count": null,
   "metadata": {},
   "outputs": [],
   "source": [
    "# Please ensure there is an `input.txt` file in this folder containing your input.\n",
    "lines: list[str] = []\n",
    "\n",
    "\n",
    "with open(\"input.txt\", \"r\") as file:\n",
    "    lines = file.readlines()"
   ]
  },
  {
   "cell_type": "code",
   "execution_count": null,
   "metadata": {},
   "outputs": [],
   "source": [
    "import re\n",
    "import sympy as sp\n",
    "\n",
    "\n",
    "def get_x_y_line(text: str) -> tuple[int, int]:\n",
    "    x_y_pattern = r\"X.(\\d+), Y.(\\d+)\"\n",
    "    match = re.search(x_y_pattern, text)\n",
    "    x = int(match.group(1))\n",
    "    y = int(match.group(2))\n",
    "    return x, y\n",
    "\n",
    "\n",
    "sum_tokens = 0\n",
    "\n",
    "\n",
    "for idx in range(0, len(lines), 4):\n",
    "    button_a_line = lines[idx].strip()\n",
    "    button_b_line = lines[idx + 1].strip()\n",
    "    prize_line = lines[idx + 2].strip()\n",
    "\n",
    "    ax, ay = get_x_y_line(button_a_line)\n",
    "    bx, by = get_x_y_line(button_b_line)\n",
    "    x, y = get_x_y_line(prize_line)\n",
    "    x += int(1e13)\n",
    "    y += int(1e13)\n",
    "\n",
    "    a, b = sp.symbols(\"a b\", positive=True, integer=True)\n",
    "\n",
    "    eq1 = sp.Eq(a * ax + b * bx, x)\n",
    "    eq2 = sp.Eq(a * ay + b * by, y)\n",
    "\n",
    "    solutions = sp.solve([eq1, eq2], (a, b), dict=True)\n",
    "    min_tokens = float(\"inf\")\n",
    "\n",
    "    for solution in solutions:\n",
    "        min_tokens = min(min_tokens, solution[a] * 3 + solution[b])\n",
    "\n",
    "    if min_tokens < float(\"inf\"):\n",
    "        sum_tokens += min_tokens\n",
    "\n",
    "\n",
    "print(sum_tokens)"
   ]
  }
 ],
 "metadata": {
  "kernelspec": {
   "display_name": "Python (myenv)",
   "language": "python",
   "name": "myenv"
  },
  "language_info": {
   "codemirror_mode": {
    "name": "ipython",
    "version": 3
   },
   "file_extension": ".py",
   "mimetype": "text/x-python",
   "name": "python",
   "nbconvert_exporter": "python",
   "pygments_lexer": "ipython3",
   "version": "3.12.1"
  }
 },
 "nbformat": 4,
 "nbformat_minor": 2
}

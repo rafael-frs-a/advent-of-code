{
 "cells": [
  {
   "cell_type": "markdown",
   "metadata": {},
   "source": [
    "### Day 13: Claw Contraption\n",
    "\n",
    "Link: https://adventofcode.com/2024/day/13"
   ]
  },
  {
   "cell_type": "markdown",
   "metadata": {},
   "source": [
    "In this problem, given that we only need to press buttons A or B at most 100 times, and considering the input size of 320 cases, we can solve it with brute force by testing all possible combinations of pressing buttons A and B between zero and 100 times, which corresponds to 3.2M iterations. We can also break the inner loop sooner when we find a solution or when one of the coordinates goes past the target position, since pressing the buttons only adds to the position."
   ]
  },
  {
   "cell_type": "code",
   "execution_count": null,
   "metadata": {},
   "outputs": [],
   "source": [
    "# Please ensure there is an `input.txt` file in this folder containing your input.\n",
    "with open(\"input.txt\", \"r\") as file:\n",
    "    lines = file.readlines()"
   ]
  },
  {
   "cell_type": "code",
   "execution_count": null,
   "metadata": {},
   "outputs": [],
   "source": [
    "import re\n",
    "\n",
    "\n",
    "def get_x_y_line(text: str) -> tuple[int, int]:\n",
    "    x_y_pattern = r\"X.(\\d+), Y.(\\d+)\"\n",
    "    match = re.search(x_y_pattern, text)\n",
    "    x = int(match.group(1))\n",
    "    y = int(match.group(2))\n",
    "    return x, y\n",
    "\n",
    "\n",
    "sum_tokens = 0\n",
    "\n",
    "\n",
    "for idx in range(0, len(lines), 4):\n",
    "    button_a_line = lines[idx].strip()\n",
    "    button_b_line = lines[idx + 1].strip()\n",
    "    prize_line = lines[idx + 2].strip()\n",
    "\n",
    "    button_a_x, button_a_y = get_x_y_line(button_a_line)\n",
    "    button_b_x, button_b_y = get_x_y_line(button_b_line)\n",
    "    prize_x, prize_y = get_x_y_line(prize_line)\n",
    "\n",
    "    min_tokens = float(\"inf\")\n",
    "\n",
    "    for button_a_pushes in range(101):\n",
    "        for button_b_pushes in range(101):\n",
    "            x = button_a_x * button_a_pushes + button_b_x * button_b_pushes\n",
    "            y = button_a_y * button_a_pushes + button_b_y * button_b_pushes\n",
    "\n",
    "            if x > prize_x or y > prize_y:  # Past the prize\n",
    "                break\n",
    "\n",
    "            if x == prize_x and y == prize_y:\n",
    "                min_tokens = min(min_tokens, button_a_pushes * 3 + button_b_pushes)\n",
    "                break\n",
    "\n",
    "    if min_tokens < float(\"inf\"):\n",
    "        sum_tokens += min_tokens\n",
    "\n",
    "\n",
    "print(sum_tokens)"
   ]
  }
 ],
 "metadata": {
  "kernelspec": {
   "display_name": "Python (myenv)",
   "language": "python",
   "name": "myenv"
  },
  "language_info": {
   "codemirror_mode": {
    "name": "ipython",
    "version": 3
   },
   "file_extension": ".py",
   "mimetype": "text/x-python",
   "name": "python",
   "nbconvert_exporter": "python",
   "pygments_lexer": "ipython3",
   "version": "3.12.1"
  }
 },
 "nbformat": 4,
 "nbformat_minor": 2
}

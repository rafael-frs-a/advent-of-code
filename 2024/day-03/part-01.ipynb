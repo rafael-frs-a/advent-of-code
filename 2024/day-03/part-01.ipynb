{
 "cells": [
  {
   "cell_type": "markdown",
   "metadata": {},
   "source": [
    "### Day 3: Mull It Over\n",
    "\n",
    "Link: https://adventofcode.com/2024/day/3"
   ]
  },
  {
   "cell_type": "markdown",
   "metadata": {},
   "source": [
    "We can solve this puzzle by using regex to identify all occurrences of the valid pattern `mul(number,number)` and then extract the numbers to calculate the result."
   ]
  },
  {
   "cell_type": "code",
   "execution_count": null,
   "metadata": {},
   "outputs": [],
   "source": [
    "# Please ensure there is an `input.txt` file in this folder containing your input.\n",
    "with open(\"input.txt\", \"r\") as file:\n",
    "    lines = file.readlines()"
   ]
  },
  {
   "cell_type": "code",
   "execution_count": null,
   "metadata": {},
   "outputs": [],
   "source": [
    "import re\n",
    "\n",
    "\n",
    "result = 0\n",
    "valid_pattern = r\"mul\\((\\d+),(\\d+)\\)\"  # Extracts numbers into groups\n",
    "\n",
    "\n",
    "for line in lines:\n",
    "    matches = re.finditer(valid_pattern, line)\n",
    "\n",
    "    for match in matches:\n",
    "        result += int(match.group(1)) * int(match.group(2))\n",
    "\n",
    "\n",
    "print(result)"
   ]
  }
 ],
 "metadata": {
  "kernelspec": {
   "display_name": "Python (myenv)",
   "language": "python",
   "name": "myenv"
  },
  "language_info": {
   "codemirror_mode": {
    "name": "ipython",
    "version": 3
   },
   "file_extension": ".py",
   "mimetype": "text/x-python",
   "name": "python",
   "nbconvert_exporter": "python",
   "pygments_lexer": "ipython3",
   "version": "3.12.1"
  }
 },
 "nbformat": 4,
 "nbformat_minor": 2
}

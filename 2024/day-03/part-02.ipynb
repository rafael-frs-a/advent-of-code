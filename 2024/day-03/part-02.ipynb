{
 "cells": [
  {
   "cell_type": "markdown",
   "metadata": {},
   "source": [
    "### Day 3: Mull It Over\n",
    "\n",
    "Link: https://adventofcode.com/2024/day/3#part2"
   ]
  },
  {
   "cell_type": "markdown",
   "metadata": {},
   "source": [
    "We can solve this part of the puzzle by extracting the enabled commands from the line and then applying the previous solution to that extracted command. This can be done as follows:\n",
    "\n",
    "1. Split the line using `don't()` as the separator. Add the first segment of the resulting list to the extracted command if the last state was \"enabled.\" Note that the problem states the input starts as \"enabled\" by default, which applies only to the first line. Subsequent lines use the last state from the previous line.\n",
    "2. For each of the next segments of the resulting list from the previous step, split it again using `do()` as the separator, discard the first sub-segment, and add the remaining sub-segments to the extracted command."
   ]
  },
  {
   "cell_type": "code",
   "execution_count": null,
   "metadata": {},
   "outputs": [],
   "source": [
    "# Please ensure there is an `input.txt` file in this folder containing your input.\n",
    "lines: list[str] = []\n",
    "\n",
    "\n",
    "with open(\"input.txt\", \"r\") as file:\n",
    "    lines = file.readlines()"
   ]
  },
  {
   "cell_type": "code",
   "execution_count": null,
   "metadata": {},
   "outputs": [],
   "source": [
    "import re\n",
    "\n",
    "\n",
    "result = 0\n",
    "valid_pattern = r\"mul\\((\\d+),(\\d+)\\)\"  # Extracts numbers into groups\n",
    "enable_command = \"do()\"\n",
    "disable_command = \"don't()\"\n",
    "enabled = True\n",
    "\n",
    "\n",
    "for line in lines:\n",
    "    valid_command = \"\"\n",
    "    disabled_segments = line.split(disable_command)\n",
    "\n",
    "    if enabled:\n",
    "        valid_command += disabled_segments[0]\n",
    "\n",
    "    for disabled_segment in disabled_segments[1:]:\n",
    "        enabled_segments = disabled_segment.split(enable_command)\n",
    "        enabled = len(enabled_segments) > 1\n",
    "        valid_command += \"\".join(enabled_segments[1:])  # The first segment is disabled by default\n",
    "\n",
    "    matches = re.finditer(valid_pattern, valid_command)\n",
    "\n",
    "    for match in matches:\n",
    "        result += int(match.group(1)) * int(match.group(2))\n",
    "\n",
    "\n",
    "print(result)"
   ]
  }
 ],
 "metadata": {
  "kernelspec": {
   "display_name": "Python (myenv)",
   "language": "python",
   "name": "myenv"
  },
  "language_info": {
   "codemirror_mode": {
    "name": "ipython",
    "version": 3
   },
   "file_extension": ".py",
   "mimetype": "text/x-python",
   "name": "python",
   "nbconvert_exporter": "python",
   "pygments_lexer": "ipython3",
   "version": "3.12.1"
  }
 },
 "nbformat": 4,
 "nbformat_minor": 2
}

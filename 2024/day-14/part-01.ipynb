{
 "cells": [
  {
   "cell_type": "markdown",
   "metadata": {},
   "source": [
    "### Day 14: Restroom Redoubt\n",
    "\n",
    "Link: https://adventofcode.com/2024/day/14"
   ]
  },
  {
   "cell_type": "markdown",
   "metadata": {},
   "source": [
    "To solve this problem, we can simply simulate each robot's walk within the grid given its initial position and velocity. To do that, we process each robot independently of the others, as well as each of its coordinates. We then determine which quadrant of the grid the robot stands in at the end. Simulating the robot teleporting from one edge to another can be done with modular operations."
   ]
  },
  {
   "cell_type": "code",
   "execution_count": null,
   "metadata": {},
   "outputs": [],
   "source": [
    "# Please ensure there is an `input.txt` file in this folder containing your input.\n",
    "with open(\"input.txt\", \"r\") as file:\n",
    "    lines = file.readlines()"
   ]
  },
  {
   "cell_type": "code",
   "execution_count": null,
   "metadata": {},
   "outputs": [],
   "source": [
    "import re\n",
    "import math\n",
    "from dataclasses import dataclass\n",
    "\n",
    "\n",
    "@dataclass\n",
    "class Position:\n",
    "    x: int\n",
    "    y: int\n",
    "\n",
    "\n",
    "@dataclass\n",
    "class Robot:\n",
    "    position: Position\n",
    "    velocity: Position\n",
    "\n",
    "\n",
    "grid_width = 101\n",
    "grid_height = 103\n",
    "robots: list[Robot] = []\n",
    "\n",
    "\n",
    "def get_position(text: str, pattern: str) -> Position:\n",
    "    match = re.search(pattern, text)\n",
    "    x = int(match.group(1))\n",
    "    y = int(match.group(2))\n",
    "    return Position(x=x, y=y)\n",
    "\n",
    "\n",
    "for line in lines:\n",
    "    position = get_position(line, r\"p=(\\d+),(\\d+)\")\n",
    "    velocity = get_position(line, r\"v=(-?\\d+),(-?\\d+)\")\n",
    "    robot = Robot(position=position, velocity=velocity)\n",
    "    robots.append(robot)\n",
    "\n",
    "\n",
    "top_left_quadrant_count = 0\n",
    "top_right_quadrant_count = 0\n",
    "bottom_left_quadrant_count = 0\n",
    "bottom_right_quadrant_count = 0\n",
    "\n",
    "\n",
    "for robot in robots:\n",
    "    for _ in range(100):\n",
    "        robot.position.x = (robot.position.x + robot.velocity.x) % grid_width\n",
    "        robot.position.y = (robot.position.y + robot.velocity.y) % grid_height\n",
    "\n",
    "    mid_x = grid_width // 2\n",
    "    mid_y = grid_height // 2\n",
    "\n",
    "    if robot.position.x < mid_x and robot.position.y < mid_y:\n",
    "        top_left_quadrant_count += 1\n",
    "    elif robot.position.x > mid_x and robot.position.y < mid_y:\n",
    "        top_right_quadrant_count += 1\n",
    "    elif robot.position.x < mid_x and robot.position.y > mid_y:\n",
    "        bottom_left_quadrant_count += 1\n",
    "    elif robot.position.x > mid_x and robot.position.y > mid_y:\n",
    "        bottom_right_quadrant_count += 1\n",
    "\n",
    "\n",
    "print(math.prod([\n",
    "    top_left_quadrant_count,\n",
    "    top_right_quadrant_count,\n",
    "    bottom_left_quadrant_count,\n",
    "    bottom_right_quadrant_count,\n",
    "]))"
   ]
  }
 ],
 "metadata": {
  "kernelspec": {
   "display_name": "Python (myenv)",
   "language": "python",
   "name": "myenv"
  },
  "language_info": {
   "codemirror_mode": {
    "name": "ipython",
    "version": 3
   },
   "file_extension": ".py",
   "mimetype": "text/x-python",
   "name": "python",
   "nbconvert_exporter": "python",
   "pygments_lexer": "ipython3",
   "version": "3.12.1"
  }
 },
 "nbformat": 4,
 "nbformat_minor": 2
}

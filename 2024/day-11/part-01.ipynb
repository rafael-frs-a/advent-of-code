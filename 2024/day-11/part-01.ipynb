{
 "cells": [
  {
   "cell_type": "markdown",
   "metadata": {},
   "source": [
    "### Day 11: Plutonian Pebbles\n",
    "\n",
    "Link: https://adventofcode.com/2024/day/11"
   ]
  },
  {
   "cell_type": "markdown",
   "metadata": {},
   "source": [
    "We can solve this problem by simulating 25 iterations, changing the initial numbers. Even though this approach is `O(2ⁿ)`, the input length of 8 makes it manageable."
   ]
  },
  {
   "cell_type": "code",
   "execution_count": null,
   "metadata": {},
   "outputs": [],
   "source": [
    "# Please ensure there is an `input.txt` file in this folder containing your input.\n",
    "lines: list[str] = []\n",
    "\n",
    "\n",
    "with open(\"input.txt\", \"r\") as file:\n",
    "    lines = file.readlines()"
   ]
  },
  {
   "cell_type": "code",
   "execution_count": null,
   "metadata": {},
   "outputs": [],
   "source": [
    "numbers = list(map(int, lines[0].strip().split()))\n",
    "\n",
    "\n",
    "for _ in range(25):\n",
    "    new_numbers: list[int] = []\n",
    "\n",
    "    for number in numbers:\n",
    "        if number == 0:\n",
    "            new_numbers.append(1)\n",
    "            continue\n",
    "\n",
    "        number_str = str(number)\n",
    "\n",
    "        if len(number_str) % 2 == 0:\n",
    "            mid_idx = len(number_str) // 2\n",
    "            new_numbers.append(int(number_str[:mid_idx]))\n",
    "            new_numbers.append(int(number_str[mid_idx:]))\n",
    "            continue\n",
    "\n",
    "        new_numbers.append(number * 2024)\n",
    "\n",
    "    numbers = new_numbers\n",
    "\n",
    "\n",
    "print(len(numbers))"
   ]
  }
 ],
 "metadata": {
  "kernelspec": {
   "display_name": "Python (myenv)",
   "language": "python",
   "name": "myenv"
  },
  "language_info": {
   "codemirror_mode": {
    "name": "ipython",
    "version": 3
   },
   "file_extension": ".py",
   "mimetype": "text/x-python",
   "name": "python",
   "nbconvert_exporter": "python",
   "pygments_lexer": "ipython3",
   "version": "3.12.1"
  }
 },
 "nbformat": 4,
 "nbformat_minor": 2
}

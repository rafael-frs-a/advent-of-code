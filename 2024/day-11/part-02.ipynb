{
 "cells": [
  {
   "cell_type": "markdown",
   "metadata": {},
   "source": [
    "### Day 11: Plutonian Pebbles\n",
    "\n",
    "Link: https://adventofcode.com/2024/day/11#part2"
   ]
  },
  {
   "cell_type": "markdown",
   "metadata": {},
   "source": [
    "Given `n` is now 75, the previous `O(2ⁿ)` approach no longer works in reasonable time without optimizations, so we need some insights.\n",
    "\n",
    "The first thing we can notice is that each number from the initial list can be processed independently from the others. We can use this to extract the processing step into a method that receives the number as a parameter and returns a result list with either one or two numbers, following the problem's description.\n",
    "\n",
    "The most important thing to notice is that if we start with the number `0`, after a certain number of steps, the numbers start to cycle. No matter how many more steps you process, the same 54 numbers will be revisited. Since it's a cycle, this also works if we start with any of those numbers. We can use this to create a lookup that calculates the final result in at most `54 * n`. The lookup would look something like this: `0` creates one occurrence of `1`. `1` creates one occurrence of `2024`. `2024` creates one occurrence of `20` and one occurrence of `24`, and so on. This allows us to multiply the occurrences of the current numbers by the occurrences of the numbers they generate, saving us from adding them one by one.\n",
    "\n",
    "For numbers outside that cycle, like `999`, we can still process them with the `O(2ⁿ)` method. As we keep processing, if we find any number that is in the cycle, we use the fast method to calculate its final result with the number of steps left and avoid processing it further. This periodic pruning prevents the list of numbers from growing exponentially. We then add the length of the final list of numbers to the result to get the answer."
   ]
  },
  {
   "cell_type": "code",
   "execution_count": null,
   "metadata": {},
   "outputs": [],
   "source": [
    "# Please ensure there is an `input.txt` file in this folder containing your input.\n",
    "with open(\"input.txt\", \"r\") as file:\n",
    "    lines = file.readlines()"
   ]
  },
  {
   "cell_type": "code",
   "execution_count": null,
   "metadata": {},
   "outputs": [],
   "source": [
    "import typing as t\n",
    "from collections import Counter\n",
    "from functools import cache\n",
    "\n",
    "\n",
    "def make_new_numbers(number: int) -> list[int]:\n",
    "    if number == 0:\n",
    "        return [1]\n",
    "\n",
    "    number_str = str(number)\n",
    "\n",
    "    if len(number_str) % 2 == 0:\n",
    "        mid_idx = len(number_str) // 2\n",
    "        return [int(number_str[:mid_idx]), int(number_str[mid_idx:])]\n",
    "\n",
    "    return [number * 2024]\n",
    "\n",
    "\n",
    "numbers_lookup: dict[int, t.Counter[int]] = {}\n",
    "numbers_to_process = [0]\n",
    "\n",
    "\n",
    "while numbers_to_process:\n",
    "    new_numbers_to_process: list[int] = []\n",
    "\n",
    "    for number in numbers_to_process:\n",
    "        if number in numbers_lookup:\n",
    "            continue\n",
    "\n",
    "        new_numbers = make_new_numbers(number)\n",
    "        numbers_lookup[number] = Counter(new_numbers)\n",
    "        new_numbers_to_process.extend(new_numbers)\n",
    "\n",
    "    numbers_to_process = new_numbers_to_process\n",
    "\n",
    "\n",
    "@cache\n",
    "def calculate_final_size(number: int, steps: int) -> int:\n",
    "    number_counter = {number: 1}\n",
    "\n",
    "    for _ in range(steps):\n",
    "        new_number_counter: dict[int, int] = {}\n",
    "\n",
    "        for number, occurrences in number_counter.items():\n",
    "            for new_number, new_number_occurrences in numbers_lookup[number].items():\n",
    "                new_number_counter.setdefault(new_number, 0)\n",
    "                new_number_counter[new_number] += new_number_occurrences * occurrences\n",
    "\n",
    "        number_counter = new_number_counter\n",
    "\n",
    "    return sum(number_counter.values())\n",
    "\n",
    "\n",
    "result = 0\n",
    "numbers = list(map(int, lines[0].strip().split()))\n",
    "step = 0\n",
    "max_steps = 75\n",
    "\n",
    "\n",
    "while numbers and step < max_steps:\n",
    "    new_numbers: list[int] = []\n",
    "\n",
    "    for number in numbers:\n",
    "        if number in numbers_lookup:\n",
    "            result += calculate_final_size(number, max_steps - step)\n",
    "        else:\n",
    "            new_numbers.extend(make_new_numbers(number))\n",
    "\n",
    "    numbers = new_numbers\n",
    "    step += 1\n",
    "\n",
    "\n",
    "result += len(numbers)\n",
    "print(result)"
   ]
  }
 ],
 "metadata": {
  "kernelspec": {
   "display_name": "Python (myenv)",
   "language": "python",
   "name": "myenv"
  },
  "language_info": {
   "codemirror_mode": {
    "name": "ipython",
    "version": 3
   },
   "file_extension": ".py",
   "mimetype": "text/x-python",
   "name": "python",
   "nbconvert_exporter": "python",
   "pygments_lexer": "ipython3",
   "version": "3.12.1"
  }
 },
 "nbformat": 4,
 "nbformat_minor": 2
}

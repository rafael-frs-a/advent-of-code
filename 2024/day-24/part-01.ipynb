{
 "cells": [
  {
   "cell_type": "markdown",
   "metadata": {},
   "source": [
    "### Day 24: Crossed Wires\n",
    "\n",
    "Link: https://adventofcode.com/2024/day/24"
   ]
  },
  {
   "cell_type": "markdown",
   "metadata": {},
   "source": [
    "To solve this problem, we can simply simulate all operations. We only process an operation when both its inputs have a value. Otherwise, we add it back to the queue. Eventually, all operations should be processed, and we can generate the answer from them."
   ]
  },
  {
   "cell_type": "code",
   "execution_count": 1,
   "metadata": {},
   "outputs": [],
   "source": [
    "# Please ensure there is an `input.txt` file in this folder containing your input.\n",
    "with open(\"input.txt\", \"r\") as file:\n",
    "    lines = file.readlines()"
   ]
  },
  {
   "cell_type": "code",
   "execution_count": null,
   "metadata": {},
   "outputs": [],
   "source": [
    "from collections import deque\n",
    "from dataclasses import dataclass\n",
    "\n",
    "\n",
    "wires: dict[str, int] = {}\n",
    "\n",
    "\n",
    "for idx, line in enumerate(lines):\n",
    "    line = line.strip()\n",
    "\n",
    "    if not line:\n",
    "        break\n",
    "\n",
    "    wire, value = line.split(\": \")\n",
    "    wires[wire] = int(value)\n",
    "\n",
    "\n",
    "@dataclass\n",
    "class Operation:\n",
    "    input_wire_1: str\n",
    "    input_wire_2: str\n",
    "    operand: str\n",
    "    output_wire: str\n",
    "\n",
    "\n",
    "operations: deque[Operation] = deque()\n",
    "operands = {\n",
    "    \"AND\": lambda v1, v2: v1 & v2,\n",
    "    \"OR\": lambda v1, v2: v1 | v2,\n",
    "    \"XOR\": lambda v1, v2: v1 ^ v2,\n",
    "}\n",
    "\n",
    "\n",
    "for line in lines[idx + 1 :]:\n",
    "    line = line.strip()\n",
    "    command, output_wire = line.split(\" -> \")\n",
    "    input_wire_1, operand, input_wire_2 = command.split(\" \")\n",
    "    operations.append(\n",
    "        Operation(\n",
    "            input_wire_1=input_wire_1,\n",
    "            input_wire_2=input_wire_2,\n",
    "            operand=operand,\n",
    "            output_wire=output_wire,\n",
    "        )\n",
    "    )\n",
    "\n",
    "\n",
    "while operations:\n",
    "    operation = operations.popleft()\n",
    "\n",
    "    if operation.input_wire_1 not in wires or operation.input_wire_2 not in wires:\n",
    "        operations.append(operation)\n",
    "        continue\n",
    "\n",
    "    wire_1_value = wires[operation.input_wire_1]\n",
    "    wire_2_value = wires[operation.input_wire_2]\n",
    "    wires[operation.output_wire] = operands[operation.operand](\n",
    "        wire_1_value, wire_2_value\n",
    "    )\n",
    "\n",
    "\n",
    "z_wires = [wire for wire in wires if wire[0] == \"z\"]\n",
    "z_wires.sort(reverse=True)\n",
    "bin_number = \"\"\n",
    "\n",
    "\n",
    "for z_wire in z_wires:\n",
    "    bin_number += str(wires[z_wire])\n",
    "\n",
    "\n",
    "print(int(bin_number, 2))"
   ]
  }
 ],
 "metadata": {
  "kernelspec": {
   "display_name": "Python (myenv)",
   "language": "python",
   "name": "myenv"
  },
  "language_info": {
   "codemirror_mode": {
    "name": "ipython",
    "version": 3
   },
   "file_extension": ".py",
   "mimetype": "text/x-python",
   "name": "python",
   "nbconvert_exporter": "python",
   "pygments_lexer": "ipython3",
   "version": "3.12.1"
  }
 },
 "nbformat": 4,
 "nbformat_minor": 2
}

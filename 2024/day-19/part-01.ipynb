{
 "cells": [
  {
   "cell_type": "markdown",
   "metadata": {},
   "source": [
    "### Day 19: Linen Layout\n",
    "\n",
    "Link: https://adventofcode.com/2024/day/19"
   ]
  },
  {
   "cell_type": "markdown",
   "metadata": {},
   "source": [
    "We can solve this problem using a dynamic programming approach. As an example, consider the first design from the problem's description, \"brwrr\". We start with a list of booleans with the design's length plus one. Index 1 determines if \"b\" is solvable, index 2 determines if \"br\" is solvable, index 3 determines if \"brw\" is solvable, and so on. Index 0 corresponds to an empty string. All values start as `False`, indicating they are not solvable, with the exception of the empty string, since if the goal is an empty design, we simply do nothing.\n",
    "\n",
    "Starting from index 1, we check if \"b\" is in the set of available patterns. Since it's a Python set, this should take constant time. To determine if \"b\" is solvable, it has to both be in the set and the part that came before it has to also be solvable. The part that came before \"b\" is the empty string at index 0, which is solvable, so index 1 is solvable too.\n",
    "\n",
    "We then move to index 2. Starting with \"r\", we check if it has a match in the set of available patterns and if what came before it is solvable. Both conditions are true, so index 2 is solvable. Since we've already found that, we don't have to try \"br\".\n",
    "\n",
    "Next is index 3. We start with \"w\", but it does not have a match. Then we move to \"rw\", also with no match. Lastly, we try \"brw\", again with no success. This means index 3 is not solvable.\n",
    "\n",
    "On index 4, \"r\" is in the set of available patterns. However, what came before it, index 3, is not solvable as we just saw. Then we try \"wr\", which has a match. What came before it, index 2, is solvable, so index 4 is too.\n",
    "\n",
    "Finally, on index 5, \"r\" is part of the set, and what came before it, index 4, is solvable, which means the whole string \"brwrr\" represented by index 5 is solvable."
   ]
  },
  {
   "cell_type": "code",
   "execution_count": 11,
   "metadata": {},
   "outputs": [],
   "source": [
    "# Please ensure there is an `input.txt` file in this folder containing your input.\n",
    "with open(\"input.txt\", \"r\") as file:\n",
    "    lines = file.readlines()"
   ]
  },
  {
   "cell_type": "code",
   "execution_count": null,
   "metadata": {},
   "outputs": [],
   "source": [
    "available_patterns = set(lines[0].strip().split(\", \"))\n",
    "possible_designs_count = 0\n",
    "\n",
    "\n",
    "def is_design_possible(design: str) -> bool:\n",
    "    dp = [False] * (len(design) + 1)\n",
    "    dp[0] = True\n",
    "\n",
    "    for idx_end in range(1, len(dp)):\n",
    "        sub_design = \"\"\n",
    "\n",
    "        for idx_start in reversed(range(1, idx_end + 1)):\n",
    "            if dp[idx_end]:\n",
    "                break\n",
    "\n",
    "            sub_design = design[idx_start - 1] + sub_design\n",
    "            dp[idx_end] = dp[idx_start - 1] and sub_design in available_patterns\n",
    "\n",
    "    return dp[-1]\n",
    "\n",
    "\n",
    "for line in lines[2:]:\n",
    "    possible_designs_count += is_design_possible(line.strip())\n",
    "\n",
    "\n",
    "print(possible_designs_count)"
   ]
  }
 ],
 "metadata": {
  "kernelspec": {
   "display_name": "Python (myenv)",
   "language": "python",
   "name": "myenv"
  },
  "language_info": {
   "codemirror_mode": {
    "name": "ipython",
    "version": 3
   },
   "file_extension": ".py",
   "mimetype": "text/x-python",
   "name": "python",
   "nbconvert_exporter": "python",
   "pygments_lexer": "ipython3",
   "version": "3.12.1"
  }
 },
 "nbformat": 4,
 "nbformat_minor": 2
}

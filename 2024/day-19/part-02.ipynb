{
 "cells": [
  {
   "cell_type": "markdown",
   "metadata": {},
   "source": [
    "### Day 19: Linen Layout\n",
    "\n",
    "Link: https://adventofcode.com/2024/day/19#part2"
   ]
  },
  {
   "cell_type": "markdown",
   "metadata": {},
   "source": [
    "To solve part two, we need to modify the solution from part one as follows:\n",
    "\n",
    "1. Convert the list of booleans into a list of integers, initialized to zero. Index zero, corresponding to an empty string, starts with a value of one.\n",
    "2. Test all possible substrings while iterating through the DP list. If the substring is in the set of available patterns, add the value of the preceding element to the current DP index.\n",
    "\n",
    "With these changes, we can determine the number of possible solutions for each design from the last element of the list."
   ]
  },
  {
   "cell_type": "code",
   "execution_count": 3,
   "metadata": {},
   "outputs": [],
   "source": [
    "# Please ensure there is an `input.txt` file in this folder containing your input.\n",
    "with open(\"input.txt\", \"r\") as file:\n",
    "    lines = file.readlines()"
   ]
  },
  {
   "cell_type": "code",
   "execution_count": null,
   "metadata": {},
   "outputs": [],
   "source": [
    "available_patterns = set(lines[0].strip().split(\", \"))\n",
    "possible_designs_count = 0\n",
    "\n",
    "\n",
    "def count_possible_designs(design: str) -> int:\n",
    "    dp = [0] * (len(design) + 1)\n",
    "    dp[0] = 1\n",
    "\n",
    "    for idx_end in range(1, len(dp)):\n",
    "        sub_design = \"\"\n",
    "\n",
    "        for idx_start in reversed(range(1, idx_end + 1)):\n",
    "            sub_design = design[idx_start - 1] + sub_design\n",
    "\n",
    "            if sub_design in available_patterns:\n",
    "                dp[idx_end] += dp[idx_start - 1]\n",
    "\n",
    "    return dp[-1]\n",
    "\n",
    "\n",
    "for line in lines[2:]:\n",
    "    possible_designs_count += count_possible_designs(line.strip())\n",
    "\n",
    "\n",
    "print(possible_designs_count)"
   ]
  }
 ],
 "metadata": {
  "kernelspec": {
   "display_name": "Python (myenv)",
   "language": "python",
   "name": "myenv"
  },
  "language_info": {
   "codemirror_mode": {
    "name": "ipython",
    "version": 3
   },
   "file_extension": ".py",
   "mimetype": "text/x-python",
   "name": "python",
   "nbconvert_exporter": "python",
   "pygments_lexer": "ipython3",
   "version": "3.12.1"
  }
 },
 "nbformat": 4,
 "nbformat_minor": 2
}

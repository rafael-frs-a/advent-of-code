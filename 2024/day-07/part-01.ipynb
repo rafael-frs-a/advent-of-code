{
 "cells": [
  {
   "cell_type": "markdown",
   "metadata": {},
   "source": [
    "### Day 7: Bridge Repair\n",
    "\n",
    "Link: https://adventofcode.com/2024/day/7"
   ]
  },
  {
   "cell_type": "markdown",
   "metadata": {},
   "source": [
    "We can solve this problem by trying all operator possibilities using a recursive method. This approach has a time complexity of `O(2ⁿ)`, but since `n` is at most 11 in the input and we have 850 lines, it should still be manageable. Also, since all numbers are positive, we can avoid unnecessary computation when the accumulated result is greater than the expected result."
   ]
  },
  {
   "cell_type": "code",
   "execution_count": null,
   "metadata": {},
   "outputs": [],
   "source": [
    "# Please ensure there is an `input.txt` file in this folder containing your input.\n",
    "lines: list[str] = []\n",
    "\n",
    "\n",
    "with open(\"input.txt\", \"r\") as file:\n",
    "    lines = file.readlines()"
   ]
  },
  {
   "cell_type": "code",
   "execution_count": null,
   "metadata": {},
   "outputs": [],
   "source": [
    "total_sum = 0\n",
    "\n",
    "\n",
    "def calculate_numbers_operations(numbers: list[int], max_result: int) -> int:\n",
    "    def calculate_operations_recursive(idx_number: int, accumulated_result: int) -> int:\n",
    "        if idx_number == len(numbers):\n",
    "            return accumulated_result\n",
    "\n",
    "        if accumulated_result > max_result:\n",
    "            return accumulated_result\n",
    "\n",
    "        add_result = calculate_operations_recursive(idx_number + 1, accumulated_result + numbers[idx_number])\n",
    "        multiply_result = calculate_operations_recursive(idx_number + 1, accumulated_result * numbers[idx_number])\n",
    "        return add_result if add_result == max_result else multiply_result\n",
    "\n",
    "    return calculate_operations_recursive(1, numbers[0])\n",
    "\n",
    "\n",
    "for line in lines:\n",
    "    expected_result, numbers = line.strip().split(\":\")\n",
    "    expected_result = int(expected_result)\n",
    "    numbers = list(map(int, numbers.strip().split()))\n",
    "    calculation_result = calculate_numbers_operations(numbers, expected_result)\n",
    "\n",
    "    if calculation_result == expected_result:\n",
    "        total_sum += calculation_result\n",
    "\n",
    "\n",
    "print(total_sum)"
   ]
  }
 ],
 "metadata": {
  "kernelspec": {
   "display_name": "Python (myenv)",
   "language": "python",
   "name": "myenv"
  },
  "language_info": {
   "codemirror_mode": {
    "name": "ipython",
    "version": 3
   },
   "file_extension": ".py",
   "mimetype": "text/x-python",
   "name": "python",
   "nbconvert_exporter": "python",
   "pygments_lexer": "ipython3",
   "version": "3.12.1"
  }
 },
 "nbformat": 4,
 "nbformat_minor": 2
}

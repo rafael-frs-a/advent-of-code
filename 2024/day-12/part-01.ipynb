{
 "cells": [
  {
   "cell_type": "markdown",
   "metadata": {},
   "source": [
    "### Day 12: Garden Groups\n",
    "\n",
    "Link: https://adventofcode.com/2024/day/12"
   ]
  },
  {
   "cell_type": "markdown",
   "metadata": {},
   "source": [
    "We can solve this problem by picking a position from the garden at a time and exploring it using either depth-first search or breadth-first search, making sure we only move to positions of the same type. To avoid picking a position that was already explored, we store all possible positions in a set and remove them as we go. To calculate the area while exploring a given region, we simply count how many new positions we visit. To calculate the perimeter of that region, for each position we visit, we start by assuming a perimeter of 4 and reduce it by one every time we find an adjacent position of the same type. Then, we add the position's perimeter to the sum and use it with the area to get the total cost."
   ]
  },
  {
   "cell_type": "code",
   "execution_count": null,
   "metadata": {},
   "outputs": [],
   "source": [
    "# Please ensure there is an `input.txt` file in this folder containing your input.\n",
    "with open(\"input.txt\", \"r\") as file:\n",
    "    lines = file.readlines()"
   ]
  },
  {
   "cell_type": "code",
   "execution_count": null,
   "metadata": {},
   "outputs": [],
   "source": [
    "garden: list[list[str]] = []\n",
    "\n",
    "\n",
    "for line in lines:\n",
    "    row = list(line.strip())\n",
    "    garden.append(row)\n",
    "\n",
    "\n",
    "garden_positions = set([\n",
    "    (row, column) for row in range(len(garden)) for column in range(len(garden[row]))\n",
    "])\n",
    "total_cost = 0\n",
    "actions = [\n",
    "    (-1, 0),  # Up\n",
    "    (1, 0),  # Down\n",
    "    (0, -1),  # Left\n",
    "    (0, 1),  # Right\n",
    "]\n",
    "\n",
    "\n",
    "def is_within_garden(row: int, column: int) -> bool:\n",
    "    return 0 <= row < len(garden) and 0 <= column < len(garden[0])\n",
    "\n",
    "\n",
    "while garden_positions:\n",
    "    row, column = garden_positions.pop()\n",
    "    garden_positions.add((row, column))  # Reinsert position as it's expected to exist in the loop below\n",
    "    to_visit = [(row, column)]\n",
    "    area = 0\n",
    "    perimeter_sum = 0\n",
    "\n",
    "    while to_visit:\n",
    "        row, column = to_visit.pop()\n",
    "\n",
    "        if (row, column) not in garden_positions:\n",
    "            continue\n",
    "\n",
    "        garden_positions.remove((row, column))\n",
    "        area += 1\n",
    "        perimeter_sum += 4\n",
    "\n",
    "        for add_row, add_column in actions:\n",
    "            new_row, new_column = row + add_row, column + add_column\n",
    "\n",
    "            if not is_within_garden(new_row, new_column):\n",
    "                continue\n",
    "\n",
    "            if garden[row][column] == garden[new_row][new_column]:\n",
    "                perimeter_sum -= 1\n",
    "                to_visit.append((new_row, new_column))\n",
    "\n",
    "    total_cost += perimeter_sum * area\n",
    "\n",
    "\n",
    "print(total_cost)"
   ]
  }
 ],
 "metadata": {
  "kernelspec": {
   "display_name": "Python (myenv)",
   "language": "python",
   "name": "myenv"
  },
  "language_info": {
   "codemirror_mode": {
    "name": "ipython",
    "version": 3
   },
   "file_extension": ".py",
   "mimetype": "text/x-python",
   "name": "python",
   "nbconvert_exporter": "python",
   "pygments_lexer": "ipython3",
   "version": "3.12.1"
  }
 },
 "nbformat": 4,
 "nbformat_minor": 2
}

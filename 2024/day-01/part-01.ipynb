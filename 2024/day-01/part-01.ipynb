{
 "cells": [
  {
   "cell_type": "markdown",
   "metadata": {},
   "source": [
    "### Day 1: Historian Hysteria\n",
    "\n",
    "Link: https://adventofcode.com/2024/day/1"
   ]
  },
  {
   "cell_type": "markdown",
   "metadata": {},
   "source": [
    "In this puzzle, we are tasked with calculating the absolute difference between numbers in two sorted lists. This can be solved as follows:\n",
    "\n",
    "Note: Please ensure there is an `input.txt` file in this folder containing your input."
   ]
  },
  {
   "cell_type": "code",
   "execution_count": null,
   "metadata": {},
   "outputs": [],
   "source": [
    "left_list_numbers: list[int] = []\n",
    "right_list_numbers: list[int] = []\n",
    "\n",
    "\n",
    "with open(\"input.txt\", \"r\") as file:\n",
    "    for line in file:\n",
    "        left_number, right_number = map(int, line.strip().split())\n",
    "        left_list_numbers.append(left_number)\n",
    "        right_list_numbers.append(right_number)\n",
    "\n",
    "\n",
    "left_list_numbers.sort()\n",
    "right_list_numbers.sort()\n",
    "total_difference = 0\n",
    "\n",
    "\n",
    "for idx in range(len(left_list_numbers)):\n",
    "    total_difference += abs(left_list_numbers[idx] - right_list_numbers[idx])\n",
    "\n",
    "\n",
    "print(total_difference)"
   ]
  }
 ],
 "metadata": {
  "kernelspec": {
   "display_name": "venv",
   "language": "python",
   "name": "python3"
  },
  "language_info": {
   "codemirror_mode": {
    "name": "ipython",
    "version": 3
   },
   "file_extension": ".py",
   "mimetype": "text/x-python",
   "name": "python",
   "nbconvert_exporter": "python",
   "pygments_lexer": "ipython3",
   "version": "3.12.1"
  }
 },
 "nbformat": 4,
 "nbformat_minor": 2
}

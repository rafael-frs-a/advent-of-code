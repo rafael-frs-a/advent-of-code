{
 "cells": [
  {
   "cell_type": "markdown",
   "metadata": {},
   "source": [
    "### Day 1: Historian Hysteria\n",
    "\n",
    "Link: https://adventofcode.com/2024/day/1#part2"
   ]
  },
  {
   "cell_type": "markdown",
   "metadata": {},
   "source": [
    "In this part, we need to multiply each element from the left list by the number of times it appears in the right list and sum the results. This can be solved as follows:\n",
    "\n",
    "Note: Please ensure there is an `input.txt` file in this folder containing your input."
   ]
  },
  {
   "cell_type": "code",
   "execution_count": null,
   "metadata": {},
   "outputs": [],
   "source": [
    "lines: list[str] = []\n",
    "\n",
    "\n",
    "with open(\"input.txt\", \"r\") as file:\n",
    "    lines = file.readlines()"
   ]
  },
  {
   "cell_type": "code",
   "execution_count": null,
   "metadata": {},
   "outputs": [],
   "source": [
    "from collections import Counter\n",
    "\n",
    "\n",
    "left_list_numbers: list[int] = []\n",
    "right_list_numbers: list[int] = []\n",
    "\n",
    "\n",
    "for line in lines:\n",
    "    left_number, right_number = map(int, line.strip().split())\n",
    "    left_list_numbers.append(left_number)\n",
    "    right_list_numbers.append(right_number)\n",
    "\n",
    "\n",
    "right_list_counter = Counter(right_list_numbers)\n",
    "similarity_score = 0\n",
    "\n",
    "\n",
    "for number in left_list_numbers:\n",
    "    similarity_score += number * right_list_counter.get(number, 0)\n",
    "\n",
    "\n",
    "print(similarity_score)"
   ]
  }
 ],
 "metadata": {
  "kernelspec": {
   "display_name": "Python (myenv)",
   "language": "python",
   "name": "myenv"
  },
  "language_info": {
   "codemirror_mode": {
    "name": "ipython",
    "version": 3
   },
   "file_extension": ".py",
   "mimetype": "text/x-python",
   "name": "python",
   "nbconvert_exporter": "python",
   "pygments_lexer": "ipython3",
   "version": "3.12.1"
  }
 },
 "nbformat": 4,
 "nbformat_minor": 2
}

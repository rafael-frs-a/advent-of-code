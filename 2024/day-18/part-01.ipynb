{
 "cells": [
  {
   "cell_type": "markdown",
   "metadata": {},
   "source": [
    "### Day 18: RAM Run\n",
    "\n",
    "Link: https://adventofcode.com/2024/day/18"
   ]
  },
  {
   "cell_type": "markdown",
   "metadata": {},
   "source": [
    "We can find the minimum count of steps that lead to the target position with a bread-first search approach. Since we don't want to revisit the same place multiple times, we can keep track of those to avoid processing them. This approach should correspond to `O(n)` time, where `n` is the grid area."
   ]
  },
  {
   "cell_type": "code",
   "execution_count": 9,
   "metadata": {},
   "outputs": [],
   "source": [
    "# Please ensure there is an `input.txt` file in this folder containing your input.\n",
    "with open(\"input.txt\", \"r\") as file:\n",
    "    lines = file.readlines()"
   ]
  },
  {
   "cell_type": "code",
   "execution_count": null,
   "metadata": {},
   "outputs": [],
   "source": [
    "import typing as t\n",
    "from collections import deque\n",
    "from dataclasses import dataclass\n",
    "\n",
    "\n",
    "@dataclass\n",
    "class Position:\n",
    "    x: int\n",
    "    y: int\n",
    "\n",
    "    def __eq__(self, other: t.Any) -> bool:\n",
    "        if not isinstance(other, Position):\n",
    "            return False\n",
    "\n",
    "        return (self.x, self.y) == (other.x, other.y)\n",
    "\n",
    "\n",
    "@dataclass\n",
    "class State:\n",
    "    position: Position\n",
    "    step_count: int\n",
    "\n",
    "\n",
    "bytes_positions: list[Position] = []\n",
    "\n",
    "\n",
    "for line in lines:\n",
    "    x, y = map(int, line.strip().split(\",\"))\n",
    "    bytes_positions.append(Position(x=x, y=y))\n",
    "\n",
    "\n",
    "grid_height = 71\n",
    "grid_width = 71\n",
    "bytes_falling = 1_024\n",
    "grid = [[\".\"] * grid_width for _ in range(grid_height)]\n",
    "\n",
    "\n",
    "for byte_idx in range(bytes_falling):\n",
    "    byte_position = bytes_positions[byte_idx]\n",
    "    grid[byte_position.y][byte_position.x] = \"#\"\n",
    "\n",
    "\n",
    "to_visit = deque([State(position=Position(x=0, y=0), step_count=0)])\n",
    "target_position = Position(x=grid_width - 1, y=grid_height - 1)\n",
    "visited: set[tuple[int, int]] = set()\n",
    "min_steps = float(\"inf\")\n",
    "actions = [\n",
    "    (-1, 0),  # Up\n",
    "    (1, 0),  # Down\n",
    "    (0, -1),  # Left\n",
    "    (0, 1),  # Right\n",
    "]\n",
    "\n",
    "\n",
    "def is_within_grid(position: Position) -> bool:\n",
    "    return 0 <= position.y < grid_height and 0 <= position.x < grid_width\n",
    "\n",
    "\n",
    "def is_valid_position(position: Position) -> bool:\n",
    "    return is_within_grid(position) and grid[new_position.y][new_position.x] != \"#\"\n",
    "\n",
    "\n",
    "while to_visit:\n",
    "    state = to_visit.popleft()\n",
    "\n",
    "    if (state.position.x, state.position.y) in visited:\n",
    "        continue\n",
    "\n",
    "    visited.add((state.position.x, state.position.y))\n",
    "\n",
    "    if state.position == target_position:\n",
    "        min_steps = state.step_count\n",
    "        break\n",
    "\n",
    "    for add_row, add_column in actions:\n",
    "        new_position = Position(\n",
    "            x=state.position.x + add_column,\n",
    "            y=state.position.y + add_row,\n",
    "        )\n",
    "\n",
    "        if is_valid_position(new_position):\n",
    "            to_visit.append(State(position=new_position, step_count=state.step_count + 1))\n",
    "\n",
    "\n",
    "print(min_steps)"
   ]
  }
 ],
 "metadata": {
  "kernelspec": {
   "display_name": "Python (myenv)",
   "language": "python",
   "name": "myenv"
  },
  "language_info": {
   "codemirror_mode": {
    "name": "ipython",
    "version": 3
   },
   "file_extension": ".py",
   "mimetype": "text/x-python",
   "name": "python",
   "nbconvert_exporter": "python",
   "pygments_lexer": "ipython3",
   "version": "3.12.1"
  }
 },
 "nbformat": 4,
 "nbformat_minor": 2
}

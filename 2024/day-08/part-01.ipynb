{
 "cells": [
  {
   "cell_type": "markdown",
   "metadata": {},
   "source": [
    "### Day 8: Resonant Collinearity\n",
    "\n",
    "Link: https://adventofcode.com/2024/day/8"
   ]
  },
  {
   "cell_type": "markdown",
   "metadata": {},
   "source": [
    "We can solve this problem by first grouping all positions for antennas of the same type and then checking each combination of two positions within the same group. For each pair, we calculate the potential antinode positions based on the row and column gap between the antennas. We count an antinode position only if it falls within the grid. Also, we use a set to track unique antinode positions, as specified in the problem description."
   ]
  },
  {
   "cell_type": "code",
   "execution_count": null,
   "metadata": {},
   "outputs": [],
   "source": [
    "# Please ensure there is an `input.txt` file in this folder containing your input.\n",
    "with open(\"input.txt\", \"r\") as file:\n",
    "    lines = file.readlines()"
   ]
  },
  {
   "cell_type": "code",
   "execution_count": null,
   "metadata": {},
   "outputs": [],
   "source": [
    "from itertools import combinations\n",
    "\n",
    "\n",
    "antennas: dict[str, list[tuple[int, int]]] = {}\n",
    "\n",
    "\n",
    "for row, line in enumerate(lines):\n",
    "    for column, antenna in enumerate(line.strip()):\n",
    "        if antenna == \".\":\n",
    "            continue\n",
    "\n",
    "        antennas.setdefault(antenna, [])\n",
    "        antennas[antenna].append((row, column))\n",
    "\n",
    "\n",
    "antinode_positions: set[tuple[int, int]] = set()\n",
    "\n",
    "\n",
    "def is_within_map(row: int, column: int) -> bool:\n",
    "    return 0 <= row < len(lines) and 0 <= column < len(lines[0].strip())\n",
    "\n",
    "\n",
    "for positions in antennas.values():\n",
    "    for first_position, second_position in combinations(positions, 2):\n",
    "        positions_sorted_by_row = sorted([first_position, second_position], key=lambda position: position[0])\n",
    "        top_position, bottom_position = positions_sorted_by_row\n",
    "        row_diff = abs(first_position[0] - second_position[0])\n",
    "        column_diff = abs(first_position[1] - second_position[1])\n",
    "\n",
    "        first_antinode_row = top_position[0] - row_diff\n",
    "\n",
    "        if top_position[1] < bottom_position[1]:  # Top antenna is to the left. We must subtract column\n",
    "            first_antinode_column = top_position[1] - column_diff\n",
    "        else:  # Top antenna is to the right. We must add column\n",
    "            first_antinode_column = top_position[1] + column_diff\n",
    "\n",
    "        if is_within_map(first_antinode_row, first_antinode_column):\n",
    "            antinode_positions.add((first_antinode_row, first_antinode_column))\n",
    "\n",
    "        second_antinode_row = bottom_position[0] + row_diff\n",
    "\n",
    "        if bottom_position[1] < top_position[1]:  # Bottom antenna is to the left. We must subtract column\n",
    "            second_antinode_column = bottom_position[1] - column_diff\n",
    "        else:  # Bottom antenna is to the right. We must add column\n",
    "            second_antinode_column = bottom_position[1] + column_diff\n",
    "\n",
    "        if is_within_map(second_antinode_row, second_antinode_column):\n",
    "            antinode_positions.add((second_antinode_row, second_antinode_column))\n",
    "\n",
    "\n",
    "print(len(antinode_positions))"
   ]
  }
 ],
 "metadata": {
  "kernelspec": {
   "display_name": "Python (myenv)",
   "language": "python",
   "name": "myenv"
  },
  "language_info": {
   "codemirror_mode": {
    "name": "ipython",
    "version": 3
   },
   "file_extension": ".py",
   "mimetype": "text/x-python",
   "name": "python",
   "nbconvert_exporter": "python",
   "pygments_lexer": "ipython3",
   "version": "3.12.1"
  }
 },
 "nbformat": 4,
 "nbformat_minor": 2
}

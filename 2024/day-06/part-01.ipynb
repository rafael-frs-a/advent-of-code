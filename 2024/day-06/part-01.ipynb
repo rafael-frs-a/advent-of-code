{
 "cells": [
  {
   "cell_type": "markdown",
   "metadata": {},
   "source": [
    "### Day 6: Guard Gallivant\n",
    "\n",
    "Link: https://adventofcode.com/2024/day/6"
   ]
  },
  {
   "cell_type": "markdown",
   "metadata": {},
   "source": [
    "We can solve this puzzle by simulating the guard's walk on the map as described in the problem and counting the unique coordinates they pass through using a set. Since the problem states that the guard will eventually leave the map, we don't need to worry about an infinite loop."
   ]
  },
  {
   "cell_type": "code",
   "execution_count": null,
   "metadata": {},
   "outputs": [],
   "source": [
    "# Please ensure there is an `input.txt` file in this folder containing your input.\n",
    "lines: list[str] = []\n",
    "\n",
    "\n",
    "with open(\"input.txt\", \"r\") as file:\n",
    "    lines = file.readlines()"
   ]
  },
  {
   "cell_type": "code",
   "execution_count": null,
   "metadata": {},
   "outputs": [],
   "source": [
    "guard_map: list[str] = []\n",
    "guard_start_row, guard_start_column = -1, -1\n",
    "\n",
    "\n",
    "for row, line in enumerate(lines):\n",
    "    map_row = \"\"\n",
    "\n",
    "    for column, char in enumerate(line.strip()):\n",
    "        map_row += char\n",
    "\n",
    "        if char == \"^\":\n",
    "            guard_start_row, guard_start_column = row, column\n",
    "\n",
    "    guard_map.append(map_row)\n",
    "\n",
    "\n",
    "visited: set[tuple[int, int]] = set()\n",
    "guard_row, guard_column = guard_start_row, guard_start_column\n",
    "actions = [\n",
    "    (-1, 0),  # Up\n",
    "    (0, 1),  # Right\n",
    "    (1, 0),  # Down\n",
    "    (0, -1),  # Left\n",
    "]\n",
    "direction = 0  # Up\n",
    "\n",
    "\n",
    "while 0 <= guard_row < len(guard_map) and 0 <= guard_column < len(guard_map[0]):\n",
    "    if guard_map[guard_row][guard_column] == \"#\":\n",
    "        guard_row, guard_column = guard_row - actions[direction][0], guard_column - actions[direction][1]  # Step back\n",
    "        direction = (direction + 1) % len(actions)  # Turn 90 degrees right\n",
    "\n",
    "    visited.add((guard_row, guard_column))\n",
    "    guard_row, guard_column = guard_row + actions[direction][0], guard_column + actions[direction][1]\n",
    "\n",
    "\n",
    "print(len(visited))"
   ]
  }
 ],
 "metadata": {
  "kernelspec": {
   "display_name": "Python (myenv)",
   "language": "python",
   "name": "myenv"
  },
  "language_info": {
   "codemirror_mode": {
    "name": "ipython",
    "version": 3
   },
   "file_extension": ".py",
   "mimetype": "text/x-python",
   "name": "python",
   "nbconvert_exporter": "python",
   "pygments_lexer": "ipython3",
   "version": "3.12.1"
  }
 },
 "nbformat": 4,
 "nbformat_minor": 2
}

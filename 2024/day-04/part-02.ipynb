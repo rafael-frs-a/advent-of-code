{
 "cells": [
  {
   "cell_type": "markdown",
   "metadata": {},
   "source": [
    "### Day 4: Ceres Search\n",
    "\n",
    "Link: https://adventofcode.com/2024/day/4#part2"
   ]
  },
  {
   "cell_type": "markdown",
   "metadata": {},
   "source": [
    "Part two of the problem seems surprisingly simple. We can solve it by iterating through the inner rectangle, avoiding the border rows and columns, and checking for occurrences of \"A\". This way, we obtain the three-letter words formed by the main and secondary diagonals passing through that letter, verifying if both are either \"MAS\" or \"SAM\"."
   ]
  },
  {
   "cell_type": "code",
   "execution_count": null,
   "metadata": {},
   "outputs": [],
   "source": [
    "# Please ensure there is an `input.txt` file in this folder containing your input.\n",
    "with open(\"input.txt\", \"r\") as file:\n",
    "    lines = file.readlines()"
   ]
  },
  {
   "cell_type": "code",
   "execution_count": null,
   "metadata": {},
   "outputs": [],
   "source": [
    "xmas_count = 0\n",
    "valid_matches = {\"MAS\", \"SAM\"}\n",
    "\n",
    "\n",
    "for row in range(1, len(lines) - 1):\n",
    "    for column in range(1, len(lines[0]) - 1):\n",
    "        if lines[row][column] != \"A\":\n",
    "            continue\n",
    "\n",
    "        main_diag_word = f\"{lines[row - 1][column - 1]}A{lines[row + 1][column + 1]}\"\n",
    "        sec_diag_word = f\"{lines[row - 1][column + 1]}A{lines[row + 1][column - 1]}\"\n",
    "\n",
    "        if main_diag_word in valid_matches and sec_diag_word in valid_matches:\n",
    "            xmas_count += 1\n",
    "\n",
    "\n",
    "print(xmas_count)"
   ]
  }
 ],
 "metadata": {
  "kernelspec": {
   "display_name": "Python (myenv)",
   "language": "python",
   "name": "myenv"
  },
  "language_info": {
   "codemirror_mode": {
    "name": "ipython",
    "version": 3
   },
   "file_extension": ".py",
   "mimetype": "text/x-python",
   "name": "python",
   "nbconvert_exporter": "python",
   "pygments_lexer": "ipython3",
   "version": "3.12.1"
  }
 },
 "nbformat": 4,
 "nbformat_minor": 2
}

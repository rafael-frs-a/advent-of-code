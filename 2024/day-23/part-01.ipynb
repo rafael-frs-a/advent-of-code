{
 "cells": [
  {
   "cell_type": "markdown",
   "metadata": {},
   "source": [
    "### Day 23: LAN Party\n",
    "\n",
    "Link: https://adventofcode.com/2024/day/23"
   ]
  },
  {
   "cell_type": "markdown",
   "metadata": {},
   "source": [
    "To solve this problem, we can make a graph of all connected computers and identify all cycles composed of three computers. Then, we check if any of those computers' names start with \"t\" and, if so, increase the count. We then need to divide the final count by six, since there are six possible combinations in which each triangle is visited. To make handling the graph structure easier, I used [NetworkX](https://pypi.org/project/networkx/)."
   ]
  },
  {
   "cell_type": "code",
   "execution_count": null,
   "metadata": {},
   "outputs": [],
   "source": [
    "! pip install networkx==3.4.2"
   ]
  },
  {
   "cell_type": "code",
   "execution_count": 14,
   "metadata": {},
   "outputs": [],
   "source": [
    "# Please ensure there is an `input.txt` file in this folder containing your input.\n",
    "with open(\"input.txt\", \"r\") as file:\n",
    "    lines = file.readlines()"
   ]
  },
  {
   "cell_type": "code",
   "execution_count": null,
   "metadata": {},
   "outputs": [],
   "source": [
    "import networkx as nx\n",
    "\n",
    "\n",
    "graph = nx.Graph()\n",
    "\n",
    "\n",
    "for line in lines:\n",
    "    computer_1, computer_2 = line.strip().split(\"-\")\n",
    "    graph.add_edge(computer_1, computer_2)\n",
    "\n",
    "\n",
    "valid_triangles_count = 0\n",
    "\n",
    "\n",
    "for node in graph:\n",
    "    neighbors = set(graph.neighbors(node))\n",
    "\n",
    "    for neighbor in neighbors:\n",
    "        common_neighbors = neighbors & set(graph.neighbors(neighbor))\n",
    "\n",
    "        for common_neighbor in common_neighbors:\n",
    "            if node[0] == \"t\" or neighbor[0] == \"t\" or common_neighbor[0] == \"t\":\n",
    "                valid_triangles_count += 1\n",
    "\n",
    "\n",
    "valid_triangles_count //= 6\n",
    "print(valid_triangles_count)"
   ]
  }
 ],
 "metadata": {
  "kernelspec": {
   "display_name": "Python (myenv)",
   "language": "python",
   "name": "myenv"
  },
  "language_info": {
   "codemirror_mode": {
    "name": "ipython",
    "version": 3
   },
   "file_extension": ".py",
   "mimetype": "text/x-python",
   "name": "python",
   "nbconvert_exporter": "python",
   "pygments_lexer": "ipython3",
   "version": "3.12.1"
  }
 },
 "nbformat": 4,
 "nbformat_minor": 2
}

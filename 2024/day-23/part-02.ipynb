{
 "cells": [
  {
   "cell_type": "markdown",
   "metadata": {},
   "source": [
    "### Day 23: LAN Party\n",
    "\n",
    "Link: https://adventofcode.com/2024/day/23#part2"
   ]
  },
  {
   "cell_type": "markdown",
   "metadata": {},
   "source": [
    "To solve part two, we need to find the largest fully connected subgraph in the network — in other words, the largest clique. Fortunately, NetworkX has a built-in method for that, so we don't need to implement any fancy algorithm such as Bron–Kerbosch."
   ]
  },
  {
   "cell_type": "code",
   "execution_count": null,
   "metadata": {},
   "outputs": [],
   "source": [
    "! pip install networkx==3.4.2"
   ]
  },
  {
   "cell_type": "code",
   "execution_count": 4,
   "metadata": {},
   "outputs": [],
   "source": [
    "# Please ensure there is an `input.txt` file in this folder containing your input.\n",
    "with open(\"input.txt\", \"r\") as file:\n",
    "    lines = file.readlines()"
   ]
  },
  {
   "cell_type": "code",
   "execution_count": null,
   "metadata": {},
   "outputs": [],
   "source": [
    "import networkx as nx\n",
    "\n",
    "\n",
    "graph = nx.Graph()\n",
    "\n",
    "\n",
    "for line in lines:\n",
    "    computer_1, computer_2 = line.strip().split(\"-\")\n",
    "    graph.add_edge(computer_1, computer_2)\n",
    "\n",
    "\n",
    "cliques = list(nx.find_cliques(graph))\n",
    "largest_clique = max(cliques, key=len)\n",
    "print(\",\".join(sorted(largest_clique)))"
   ]
  }
 ],
 "metadata": {
  "kernelspec": {
   "display_name": "Python (myenv)",
   "language": "python",
   "name": "myenv"
  },
  "language_info": {
   "codemirror_mode": {
    "name": "ipython",
    "version": 3
   },
   "file_extension": ".py",
   "mimetype": "text/x-python",
   "name": "python",
   "nbconvert_exporter": "python",
   "pygments_lexer": "ipython3",
   "version": "3.12.1"
  }
 },
 "nbformat": 4,
 "nbformat_minor": 2
}

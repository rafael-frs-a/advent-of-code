{
 "cells": [
  {
   "cell_type": "markdown",
   "metadata": {},
   "source": [
    "### Day 25: Code Chronicle\n",
    "\n",
    "Link: https://adventofcode.com/2024/day/25"
   ]
  },
  {
   "cell_type": "markdown",
   "metadata": {},
   "source": [
    "We can solve this problem by comparing each key schematic with each lock schematic and checking if there is an overlap. This approach should be `O(5 * K * L)`, where 5 is the number of pins, `K` is the number of keys, and `L` is the number of locks."
   ]
  },
  {
   "cell_type": "code",
   "execution_count": 9,
   "metadata": {},
   "outputs": [],
   "source": [
    "# Please ensure there is an `input.txt` file in this folder containing your input.\n",
    "with open(\"input.txt\", \"r\") as file:\n",
    "    lines = file.readlines()"
   ]
  },
  {
   "cell_type": "code",
   "execution_count": null,
   "metadata": {},
   "outputs": [],
   "source": [
    "keys: list[list[int, int, int, int, int]] = []\n",
    "locks: list[list[int, int, int, int, int]] = []\n",
    "schematics: list[list[str]] = []\n",
    "\n",
    "\n",
    "def analyze_schematics() -> None:\n",
    "    global keys\n",
    "    global locks\n",
    "    global schematics\n",
    "\n",
    "    is_key = schematics[0][0] == \".\"\n",
    "    value_match = \"#\" if is_key else \".\"\n",
    "    heights: list[int] = []\n",
    "\n",
    "    for column in range(len(schematics[0])):\n",
    "        for row in range(len(schematics)):\n",
    "            if schematics[row][column] == value_match:\n",
    "                heights.append(row)\n",
    "                break\n",
    "\n",
    "    if is_key:\n",
    "        keys.append(heights)\n",
    "    else:\n",
    "        locks.append(heights)\n",
    "\n",
    "    schematics = []\n",
    "\n",
    "\n",
    "for line in lines:\n",
    "    line = line.strip()\n",
    "\n",
    "    if line:\n",
    "        schematics.append(line)\n",
    "        continue\n",
    "\n",
    "    analyze_schematics()\n",
    "\n",
    "\n",
    "analyze_schematics()\n",
    "fits_count = 0\n",
    "\n",
    "\n",
    "for key_heights in keys:\n",
    "    for lock_heights in locks:\n",
    "        for idx in range(len(key_heights)):\n",
    "            if lock_heights[idx] > key_heights[idx]:\n",
    "                break\n",
    "        else:\n",
    "            fits_count += 1\n",
    "\n",
    "\n",
    "print(fits_count)"
   ]
  }
 ],
 "metadata": {
  "kernelspec": {
   "display_name": "Python (myenv)",
   "language": "python",
   "name": "myenv"
  },
  "language_info": {
   "codemirror_mode": {
    "name": "ipython",
    "version": 3
   },
   "file_extension": ".py",
   "mimetype": "text/x-python",
   "name": "python",
   "nbconvert_exporter": "python",
   "pygments_lexer": "ipython3",
   "version": "3.12.1"
  }
 },
 "nbformat": 4,
 "nbformat_minor": 2
}

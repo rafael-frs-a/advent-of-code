{
 "cells": [
  {
   "cell_type": "markdown",
   "metadata": {},
   "source": [
    "### Day 10: Hoof It\n",
    "\n",
    "Link: https://adventofcode.com/2024/day/10#part2"
   ]
  },
  {
   "cell_type": "markdown",
   "metadata": {},
   "source": [
    "Same solution from part one, except that we remove the track of visited places when walking the map. This is because we are now allowed to visit the same place multiple times from different directions. There's no need to worry about infinite loops, since moving to increasing heights prevents us from going back in the trail."
   ]
  },
  {
   "cell_type": "code",
   "execution_count": null,
   "metadata": {},
   "outputs": [],
   "source": [
    "# Please ensure there is an `input.txt` file in this folder containing your input.\n",
    "with open(\"input.txt\", \"r\") as file:\n",
    "    lines = file.readlines()"
   ]
  },
  {
   "cell_type": "code",
   "execution_count": null,
   "metadata": {},
   "outputs": [],
   "source": [
    "height_map: list[list[int]] = []\n",
    "\n",
    "\n",
    "for line in lines:\n",
    "    row = [int(height) for height in list(line.strip())]\n",
    "    height_map.append(row)\n",
    "\n",
    "\n",
    "score_count = 0\n",
    "actions = [\n",
    "    (-1, 0),  # Up\n",
    "    (1, 0),  # Down\n",
    "    (0, -1),  # Left\n",
    "    (0, 1),  # Right\n",
    "]\n",
    "\n",
    "\n",
    "def is_within_map(row: int, column: int) -> bool:\n",
    "    return 0 <= row < len(height_map) and 0 <= column < len(height_map[0])\n",
    "\n",
    "\n",
    "for row in range(len(height_map)):\n",
    "    for column in range(len(height_map[0])):\n",
    "        height = height_map[row][column]\n",
    "\n",
    "        if height > 0:\n",
    "            continue\n",
    "\n",
    "        dfs = [(row, column)]\n",
    "\n",
    "        while dfs:\n",
    "            current_row, current_column = dfs.pop()\n",
    "            current_height = height_map[current_row][current_column]\n",
    "\n",
    "            if current_height == 9:\n",
    "                score_count += 1\n",
    "                continue\n",
    "\n",
    "            for add_row, add_column in actions:\n",
    "                new_row, new_column = current_row + add_row, current_column + add_column\n",
    "\n",
    "                if not is_within_map(new_row, new_column):\n",
    "                    continue\n",
    "\n",
    "                new_height = height_map[new_row][new_column]\n",
    "\n",
    "                if new_height - current_height == 1:\n",
    "                    dfs.append((new_row, new_column))\n",
    "\n",
    "\n",
    "print(score_count)"
   ]
  }
 ],
 "metadata": {
  "kernelspec": {
   "display_name": "Python (myenv)",
   "language": "python",
   "name": "myenv"
  },
  "language_info": {
   "codemirror_mode": {
    "name": "ipython",
    "version": 3
   },
   "file_extension": ".py",
   "mimetype": "text/x-python",
   "name": "python",
   "nbconvert_exporter": "python",
   "pygments_lexer": "ipython3",
   "version": "3.12.1"
  }
 },
 "nbformat": 4,
 "nbformat_minor": 2
}

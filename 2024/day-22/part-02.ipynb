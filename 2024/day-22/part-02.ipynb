{
 "cells": [
  {
   "cell_type": "markdown",
   "metadata": {},
   "source": [
    "### Day 22: Monkey Market\n",
    "\n",
    "Link: https://adventofcode.com/2024/day/22#part2"
   ]
  },
  {
   "cell_type": "markdown",
   "metadata": {},
   "source": [
    "To solve part two, we need to modify the solution from part one as follows:\n",
    "\n",
    "1. For each buyer, store a list of prices corresponding to the last digit of the current secret and their corresponding delta to the previous price.\n",
    "2. Use a sliding window to contain the last four deltas. If that sequence hasn't been seen yet, store its corresponding price in a dictionary.\n",
    "3. For each buyer's sequence, add the price to a dictionary containing all sequences from all buyers.\n",
    "4. Return the highest price sum from the previous dictionary."
   ]
  },
  {
   "cell_type": "code",
   "execution_count": 7,
   "metadata": {},
   "outputs": [],
   "source": [
    "# Please ensure there is an `input.txt` file in this folder containing your input.\n",
    "with open(\"input.txt\", \"r\") as file:\n",
    "    lines = file.readlines()"
   ]
  },
  {
   "cell_type": "code",
   "execution_count": null,
   "metadata": {},
   "outputs": [],
   "source": [
    "from collections import deque\n",
    "\n",
    "\n",
    "numbers: list[int] = []\n",
    "\n",
    "\n",
    "for line in lines:\n",
    "    numbers.append(int(line.strip()))\n",
    "\n",
    "\n",
    "def mix(number: int, secret: int) -> int:\n",
    "    return secret ^ number\n",
    "\n",
    "\n",
    "def prune(secret: int) -> int:\n",
    "    return secret % 16_777_216\n",
    "\n",
    "\n",
    "def get_last_digit(number: int) -> int:\n",
    "    return number % 10\n",
    "\n",
    "\n",
    "buyers_deltas: list[list[tuple[int, int]]] = []\n",
    "sequences_prices: dict[tuple[int, int, int, int], int] = {}\n",
    "\n",
    "\n",
    "for number in numbers:\n",
    "    secret = number\n",
    "    buyer_deltas = [(get_last_digit(secret), float(\"inf\"))]\n",
    "    sequence: deque[int] = deque()\n",
    "    buyer_sequences_prices: dict[tuple[int, int, int, int], int] = {}\n",
    "\n",
    "    for _ in range(2_000):\n",
    "        secret = prune(mix(secret * 64, secret))\n",
    "        secret = prune(mix(secret // 32, secret))\n",
    "        secret = prune(mix(secret * 2048, secret))\n",
    "\n",
    "        price = get_last_digit(secret)\n",
    "        delta = price - buyer_deltas[-1][0]\n",
    "        buyer_deltas.append((price, delta))\n",
    "\n",
    "        sequence.append(delta)\n",
    "\n",
    "        if len(sequence) > 4:\n",
    "            sequence.popleft()\n",
    "\n",
    "        if len(sequence) == 4:\n",
    "            key = tuple(sequence)\n",
    "\n",
    "            if key in buyer_sequences_prices:\n",
    "                continue\n",
    "\n",
    "            buyer_sequences_prices[key] = price\n",
    "\n",
    "    for key in buyer_sequences_prices:\n",
    "        sequences_prices.setdefault(key, 0)\n",
    "        sequences_prices[key] += buyer_sequences_prices[key]\n",
    "\n",
    "    buyers_deltas.append(buyer_deltas)\n",
    "\n",
    "\n",
    "print(max(sequences_prices.values()))"
   ]
  }
 ],
 "metadata": {
  "kernelspec": {
   "display_name": "Python (myenv)",
   "language": "python",
   "name": "myenv"
  },
  "language_info": {
   "codemirror_mode": {
    "name": "ipython",
    "version": 3
   },
   "file_extension": ".py",
   "mimetype": "text/x-python",
   "name": "python",
   "nbconvert_exporter": "python",
   "pygments_lexer": "ipython3",
   "version": "3.12.1"
  }
 },
 "nbformat": 4,
 "nbformat_minor": 2
}

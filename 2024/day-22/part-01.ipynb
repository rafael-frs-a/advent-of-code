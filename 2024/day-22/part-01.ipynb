{
 "cells": [
  {
   "cell_type": "markdown",
   "metadata": {},
   "source": [
    "### Day 22: Monkey Market\n",
    "\n",
    "Link: https://adventofcode.com/2024/day/22"
   ]
  },
  {
   "cell_type": "markdown",
   "metadata": {},
   "source": [
    "To solve the problem, we simply have to simulate evolving the secret with the given pseudorandom algorithm and initial seeds and adding the results."
   ]
  },
  {
   "cell_type": "code",
   "execution_count": 4,
   "metadata": {},
   "outputs": [],
   "source": [
    "# Please ensure there is an `input.txt` file in this folder containing your input.\n",
    "with open(\"input.txt\", \"r\") as file:\n",
    "    lines = file.readlines()"
   ]
  },
  {
   "cell_type": "code",
   "execution_count": null,
   "metadata": {},
   "outputs": [],
   "source": [
    "numbers: list[int] = []\n",
    "\n",
    "\n",
    "for line in lines:\n",
    "    numbers.append(int(line.strip()))\n",
    "\n",
    "\n",
    "def mix(number: int, secret: int) -> int:\n",
    "    return secret ^ number\n",
    "\n",
    "\n",
    "def prune(secret: int) -> int:\n",
    "    return secret % 16_777_216\n",
    "\n",
    "\n",
    "sum_secrets = 0\n",
    "\n",
    "\n",
    "for number in numbers:\n",
    "    secret = number\n",
    "\n",
    "    for _ in range(2_000):\n",
    "        secret = prune(mix(secret * 64, secret))\n",
    "        secret = prune(mix(secret // 32, secret))\n",
    "        secret = prune(mix(secret * 2048, secret))\n",
    "\n",
    "    sum_secrets += secret\n",
    "\n",
    "\n",
    "print(sum_secrets)"
   ]
  }
 ],
 "metadata": {
  "kernelspec": {
   "display_name": "Python (myenv)",
   "language": "python",
   "name": "myenv"
  },
  "language_info": {
   "codemirror_mode": {
    "name": "ipython",
    "version": 3
   },
   "file_extension": ".py",
   "mimetype": "text/x-python",
   "name": "python",
   "nbconvert_exporter": "python",
   "pygments_lexer": "ipython3",
   "version": "3.12.1"
  }
 },
 "nbformat": 4,
 "nbformat_minor": 2
}

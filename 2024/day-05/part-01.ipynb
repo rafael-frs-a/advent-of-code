{
 "cells": [
  {
   "cell_type": "markdown",
   "metadata": {},
   "source": [
    "### Day 5: Print Queue\n",
    "\n",
    "Link: https://adventofcode.com/2024/day/5"
   ]
  },
  {
   "cell_type": "markdown",
   "metadata": {},
   "source": [
    "We can solve this problem in `O(n²)` time by selecting two numbers on each update line and checking if any rules prevent their current order. Checking the rules should be `O(1)` if we store them in a hashmap. If no rules are broken, the line is valid, and we can add the middle number."
   ]
  },
  {
   "cell_type": "code",
   "execution_count": null,
   "metadata": {},
   "outputs": [],
   "source": [
    "# Please ensure there is an `input.txt` file in this folder containing your input.\n",
    "with open(\"input.txt\", \"r\") as file:\n",
    "    lines = file.readlines()"
   ]
  },
  {
   "cell_type": "code",
   "execution_count": null,
   "metadata": {},
   "outputs": [],
   "source": [
    "rules: set[str] = set()\n",
    "\n",
    "\n",
    "for idx, line in enumerate(lines):\n",
    "    line = line.strip()\n",
    "\n",
    "    if not line:\n",
    "        break\n",
    "\n",
    "    rules.add(line)\n",
    "\n",
    "\n",
    "total_sum = 0\n",
    "\n",
    "\n",
    "for line in lines[idx + 1:]:\n",
    "    numbers = list(map(int, line.strip().split(\",\")))\n",
    "\n",
    "    for idx, first_number in enumerate(numbers[:-1]):\n",
    "        for second_number in numbers[idx + 1:]:\n",
    "            breaking_rule = f\"{second_number}|{first_number}\"\n",
    "\n",
    "            if breaking_rule in rules:\n",
    "                break\n",
    "        else:\n",
    "            continue\n",
    "\n",
    "        break\n",
    "    else:\n",
    "        total_sum += numbers[len(numbers) // 2]  # Get middle number\n",
    "\n",
    "\n",
    "print(total_sum)"
   ]
  }
 ],
 "metadata": {
  "kernelspec": {
   "display_name": "Python (myenv)",
   "language": "python",
   "name": "myenv"
  },
  "language_info": {
   "codemirror_mode": {
    "name": "ipython",
    "version": 3
   },
   "file_extension": ".py",
   "mimetype": "text/x-python",
   "name": "python",
   "nbconvert_exporter": "python",
   "pygments_lexer": "ipython3",
   "version": "3.12.1"
  }
 },
 "nbformat": 4,
 "nbformat_minor": 2
}

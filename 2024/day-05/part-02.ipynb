{
 "cells": [
  {
   "cell_type": "markdown",
   "metadata": {},
   "source": [
    "### Day 5: Print Queue\n",
    "\n",
    "Link: https://adventofcode.com/2024/day/5#part2"
   ]
  },
  {
   "cell_type": "markdown",
   "metadata": {},
   "source": [
    "We can solve part two by implementing custom sorting logic that compares two numbers at a time. If a pair of numbers in their given order breaks any rules, we swap them. Then, we compare the sorted list with the original one to check for changes. If there are changes, we add the middle number to the result."
   ]
  },
  {
   "cell_type": "code",
   "execution_count": null,
   "metadata": {},
   "outputs": [],
   "source": [
    "# Please ensure there is an `input.txt` file in this folder containing your input.\n",
    "with open(\"input.txt\", \"r\") as file:\n",
    "    lines = file.readlines()"
   ]
  },
  {
   "cell_type": "code",
   "execution_count": null,
   "metadata": {},
   "outputs": [],
   "source": [
    "from functools import cmp_to_key\n",
    "\n",
    "\n",
    "rules: set[str] = set()\n",
    "\n",
    "\n",
    "for idx, line in enumerate(lines):\n",
    "    line = line.strip()\n",
    "\n",
    "    if not line:\n",
    "        break\n",
    "\n",
    "    rules.add(line)\n",
    "\n",
    "\n",
    "total_sum = 0\n",
    "\n",
    "\n",
    "def compare_numbers(first_number: int, second_number: int) -> int:\n",
    "    breaking_rule = f\"{second_number}|{first_number}\"\n",
    "\n",
    "    if breaking_rule in rules:\n",
    "        return 1  # Numbers should swap order\n",
    "\n",
    "    return -1  # Numbers should keep order\n",
    "\n",
    "\n",
    "for line in lines[idx + 1:]:\n",
    "    numbers = list(map(int, line.strip().split(\",\")))\n",
    "    sorted_numbers = sorted(numbers, key=cmp_to_key(compare_numbers))\n",
    "\n",
    "    if numbers != sorted_numbers:\n",
    "        total_sum += sorted_numbers[len(sorted_numbers) // 2]  # Get middle number\n",
    "\n",
    "\n",
    "print(total_sum)"
   ]
  }
 ],
 "metadata": {
  "kernelspec": {
   "display_name": "Python (myenv)",
   "language": "python",
   "name": "myenv"
  },
  "language_info": {
   "codemirror_mode": {
    "name": "ipython",
    "version": 3
   },
   "file_extension": ".py",
   "mimetype": "text/x-python",
   "name": "python",
   "nbconvert_exporter": "python",
   "pygments_lexer": "ipython3",
   "version": "3.12.1"
  }
 },
 "nbformat": 4,
 "nbformat_minor": 2
}

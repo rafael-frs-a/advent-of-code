{
 "cells": [
  {
   "cell_type": "markdown",
   "metadata": {},
   "source": [
    "### Day 2: Red-Nosed Reports\n",
    "\n",
    "Link: https://adventofcode.com/2024/day/2"
   ]
  },
  {
   "cell_type": "markdown",
   "metadata": {},
   "source": [
    "We can solve this puzzle by counting how many lines in the input are sorted, either in ascending or descending order. A linear solution is possible by iterating each number and checking if the following ones either strictly increase or decrease within the allowed margin."
   ]
  },
  {
   "cell_type": "code",
   "execution_count": null,
   "metadata": {},
   "outputs": [],
   "source": [
    "# Please ensure there is an `input.txt` file in this folder containing your input.\n",
    "lines: list[str] = []\n",
    "\n",
    "\n",
    "with open(\"input.txt\", \"r\") as file:\n",
    "    lines = file.readlines()"
   ]
  },
  {
   "cell_type": "code",
   "execution_count": null,
   "metadata": {},
   "outputs": [],
   "source": [
    "safe_count = 0\n",
    "min_diff, max_diff = 1, 3\n",
    "\n",
    "\n",
    "for line in lines:\n",
    "    numbers = list(map(int, line.strip().split()))\n",
    "\n",
    "    # Neither increasing or decreasing. Ignore\n",
    "    if numbers[1] == numbers[0]:\n",
    "        continue\n",
    "\n",
    "    is_increasing = numbers[1] > numbers[0]\n",
    "\n",
    "    for idx in range(1, len(numbers)):\n",
    "        diff = numbers[idx] - numbers[idx - 1]\n",
    "\n",
    "        if not is_increasing:\n",
    "            diff *= -1\n",
    "\n",
    "        if not min_diff <= diff <= max_diff:\n",
    "            break\n",
    "    else:  # If the loop finishes without breaking\n",
    "        safe_count += 1\n",
    "\n",
    "\n",
    "print(safe_count)"
   ]
  }
 ],
 "metadata": {
  "kernelspec": {
   "display_name": "Python (myenv)",
   "language": "python",
   "name": "myenv"
  },
  "language_info": {
   "codemirror_mode": {
    "name": "ipython",
    "version": 3
   },
   "file_extension": ".py",
   "mimetype": "text/x-python",
   "name": "python",
   "nbconvert_exporter": "python",
   "pygments_lexer": "ipython3",
   "version": "3.12.1"
  }
 },
 "nbformat": 4,
 "nbformat_minor": 2
}

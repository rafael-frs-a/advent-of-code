{
 "cells": [
  {
   "cell_type": "markdown",
   "metadata": {},
   "source": [
    "### Day 2: Red-Nosed Reports\n",
    "\n",
    "Link: https://adventofcode.com/2024/day/2#part2"
   ]
  },
  {
   "cell_type": "markdown",
   "metadata": {},
   "source": [
    "This problem has mutated into a dynamic programming problem. To solve it, we need to adapt the solution from the first part as follows:\n",
    "\n",
    "1. Handle cases where the skipped number alters the list's expected sorting order. To address this, we can iterate through the list for both increasing and decreasing orders.\n",
    "2. Create a cached recursive method to evaluate the following scenarios:\n",
    "   1. No number has been skipped: either skip the current number or, if it's safe, use it and evaluate the rest.\n",
    "   2. A number has been skipped: if it's safe, use it and evaluate the rest. Otherwise, the list is unsafe.\n",
    "\n",
    "Note: Please ensure there is an `input.txt` file in this folder containing your input."
   ]
  },
  {
   "cell_type": "code",
   "execution_count": null,
   "metadata": {},
   "outputs": [],
   "source": [
    "lines: list[str] = []\n",
    "\n",
    "\n",
    "with open(\"input.txt\", \"r\") as file:\n",
    "    lines = file.readlines()"
   ]
  },
  {
   "cell_type": "code",
   "execution_count": null,
   "metadata": {},
   "outputs": [],
   "source": [
    "from functools import cache\n",
    "\n",
    "\n",
    "safe_count = 0\n",
    "min_diff, max_diff = 1, 3\n",
    "\n",
    "\n",
    "@cache\n",
    "def is_number_safe(\n",
    "    numbers: tuple[int, ...],\n",
    "    previous_idx: int,\n",
    "    current_idx: int,\n",
    "    is_increasing: bool,\n",
    "    has_skipped: bool,\n",
    ") -> bool:\n",
    "    if current_idx == len(numbers):\n",
    "        return True\n",
    "\n",
    "    diff = numbers[current_idx] - numbers[previous_idx]\n",
    "\n",
    "    if is_increasing:\n",
    "        diff *= -1\n",
    "\n",
    "    is_safe = min_diff <= diff <= max_diff\n",
    "\n",
    "    if not is_safe and has_skipped:\n",
    "        return False\n",
    "\n",
    "    if is_safe:\n",
    "        is_safe = is_number_safe(numbers, current_idx, current_idx + 1, is_increasing, has_skipped)\n",
    "\n",
    "    if not is_safe and not has_skipped:\n",
    "        is_safe = is_number_safe(numbers, previous_idx, current_idx + 1, is_increasing, True)\n",
    "\n",
    "    return is_safe\n",
    "\n",
    "\n",
    "for line in lines:\n",
    "    numbers = tuple(map(int, line.strip().split()))\n",
    "\n",
    "    for is_increasing in [True, False]:\n",
    "        is_safe = is_number_safe(numbers, 0, 1, is_increasing, False)\n",
    "\n",
    "        if not is_safe:\n",
    "            is_safe = is_number_safe(numbers, 1, 2, is_increasing, True)\n",
    "\n",
    "        if is_safe:\n",
    "            safe_count += 1\n",
    "            break\n",
    "\n",
    "\n",
    "cache_info = is_number_safe.cache_info()\n",
    "print(f\"Hits: {cache_info.hits}\")\n",
    "print(f\"Total calls: {cache_info.hits + cache_info.misses}\")\n",
    "print(safe_count)"
   ]
  }
 ],
 "metadata": {
  "kernelspec": {
   "display_name": "Python (myenv)",
   "language": "python",
   "name": "myenv"
  },
  "language_info": {
   "codemirror_mode": {
    "name": "ipython",
    "version": 3
   },
   "file_extension": ".py",
   "mimetype": "text/x-python",
   "name": "python",
   "nbconvert_exporter": "python",
   "pygments_lexer": "ipython3",
   "version": "3.12.1"
  }
 },
 "nbformat": 4,
 "nbformat_minor": 2
}

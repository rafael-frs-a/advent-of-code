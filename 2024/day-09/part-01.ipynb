{
 "cells": [
  {
   "cell_type": "markdown",
   "metadata": {},
   "source": [
    "### Day 9: Disk Fragmenter\n",
    "\n",
    "Link: https://adventofcode.com/2024/day/9"
   ]
  },
  {
   "cell_type": "markdown",
   "metadata": {},
   "source": [
    "We can solve this problem by following the method described in the example: first, create a list of blocks composed of file IDs or \".\" indicating free spaces. Then, iterate through the list, assigning each free space block to the file ID at the end of the list. We should also make sure no trailing free space blocks are left after this step, as the last block is always expected to be a file ID, not a free space block. Given the output length of 20k, the list of blocks would be at most 180k, assuming all 9s, which is manageable with this `O(n)` solution."
   ]
  },
  {
   "cell_type": "code",
   "execution_count": null,
   "metadata": {},
   "outputs": [],
   "source": [
    "# Please ensure there is an `input.txt` file in this folder containing your input.\n",
    "with open(\"input.txt\", \"r\") as file:\n",
    "    lines = file.readlines()"
   ]
  },
  {
   "cell_type": "code",
   "execution_count": null,
   "metadata": {},
   "outputs": [],
   "source": [
    "blocks: list[int | str] = []\n",
    "file_id = 0\n",
    "is_free_space = False\n",
    "\n",
    "\n",
    "for digit in lines[0].strip():\n",
    "    for _ in range(int(digit)):\n",
    "        if is_free_space:\n",
    "            blocks.append(\".\")\n",
    "        else:\n",
    "            blocks.append(file_id)\n",
    "\n",
    "    if not is_free_space:\n",
    "        file_id += 1\n",
    "\n",
    "    is_free_space = not is_free_space\n",
    "\n",
    "\n",
    "idx_block = 0\n",
    "\n",
    "\n",
    "while idx_block < len(blocks):\n",
    "    if blocks[idx_block] != \".\":\n",
    "        idx_block += 1\n",
    "        continue\n",
    "\n",
    "    blocks[idx_block] = blocks.pop()  # Move file ID at the end to free space\n",
    "\n",
    "    # Remove trailing free space blocks\n",
    "    while blocks[-1] == \".\":\n",
    "        blocks.pop()\n",
    "\n",
    "    idx_block += 1\n",
    "\n",
    "\n",
    "# Calculate checksum\n",
    "checksum = 0\n",
    "\n",
    "\n",
    "for idx, block_id in enumerate(blocks):\n",
    "    checksum += idx * block_id\n",
    "\n",
    "\n",
    "print(checksum)"
   ]
  }
 ],
 "metadata": {
  "kernelspec": {
   "display_name": "Python (myenv)",
   "language": "python",
   "name": "myenv"
  },
  "language_info": {
   "codemirror_mode": {
    "name": "ipython",
    "version": 3
   },
   "file_extension": ".py",
   "mimetype": "text/x-python",
   "name": "python",
   "nbconvert_exporter": "python",
   "pygments_lexer": "ipython3",
   "version": "3.12.1"
  }
 },
 "nbformat": 4,
 "nbformat_minor": 2
}

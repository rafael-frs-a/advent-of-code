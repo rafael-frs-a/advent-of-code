{
 "cells": [
  {
   "cell_type": "markdown",
   "metadata": {},
   "source": [
    "### Day 9: Disk Fragmenter\n",
    "\n",
    "Link: https://adventofcode.com/2024/day/9#part2"
   ]
  },
  {
   "cell_type": "markdown",
   "metadata": {},
   "source": [
    "Part two of the problem requires comparing each file block, starting from the end of the list, with each block that comes before it, starting from the beginning of the list, to find one free space block that fits the whole file. This results in an `O(n²)` solution, so the previous approach of creating an expanded list no longer works in reasonable time. To address this, we need to represent the blocks in a more compact way. Given the input size of 20k elements, we can achieve manageable performance with a list of blocks of similar size. To do this, each block is represented as a tuple of two values:\n",
    "\n",
    "1. The file ID, or \".\" if it's a free space block.\n",
    "2. The number of blocks that the value spans.\n",
    "\n",
    "Then, we attempt to move the file blocks at the end of the list to free space blocks at the beginning, as described in the problem. Note that this process might increase the length of the list if the free space is greater than the file size being moved, requiring the insertion of another tuple to indicate the remaining free space.\n",
    "\n",
    "Finally, calculating the checksum should be `O(n)`. We can simplify the sum of the products of consecutive indices and file IDs by using an arithmetic progression sum. For example, given file ID `3` spanning indexes `5` to `7`, instead of calculating `3 * 5 + 3 * 6 + 3 * 7`, we do `3 * (5 + 6 + 7)` or `3 * ((5 + 7) * 3 // 2)`."
   ]
  },
  {
   "cell_type": "code",
   "execution_count": null,
   "metadata": {},
   "outputs": [],
   "source": [
    "# Please ensure there is an `input.txt` file in this folder containing your input.\n",
    "lines: list[str] = []\n",
    "\n",
    "\n",
    "with open(\"input.txt\", \"r\") as file:\n",
    "    lines = file.readlines()"
   ]
  },
  {
   "cell_type": "code",
   "execution_count": null,
   "metadata": {},
   "outputs": [],
   "source": [
    "blocks: list[tuple[int | str, int]] = []\n",
    "file_id = 0\n",
    "is_free_space = False\n",
    "\n",
    "\n",
    "for digit in lines[0].strip():\n",
    "    block_value = \".\" if is_free_space else file_id\n",
    "    is_free_space = not is_free_space\n",
    "    digit = int(digit)\n",
    "\n",
    "    if digit > 0:\n",
    "        blocks.append((block_value, digit))\n",
    "\n",
    "    if is_free_space:\n",
    "        file_id += 1\n",
    "\n",
    "\n",
    "def remove_trailing_free_space() -> None:\n",
    "    while blocks and blocks[-1][0] == \".\":\n",
    "        blocks.pop()\n",
    "\n",
    "\n",
    "remove_trailing_free_space()\n",
    "idx_block = len(blocks) - 1\n",
    "\n",
    "\n",
    "while idx_block > 0:\n",
    "    current_block_value, current_block_size = blocks[idx_block]\n",
    "\n",
    "    if current_block_value == \".\":\n",
    "        idx_block -= 1\n",
    "        continue\n",
    "\n",
    "    for idx_search in range(idx_block):\n",
    "        search_block_value, search_block_size = blocks[idx_search]\n",
    "\n",
    "        if search_block_value != \".\":  # Not free space\n",
    "            continue\n",
    "\n",
    "        if search_block_size < current_block_size:  # Not enough free space to move file in\n",
    "            continue\n",
    "\n",
    "        blocks[idx_search] = (current_block_value, current_block_size)\n",
    "        blocks[idx_block] = (\".\", current_block_size)\n",
    "\n",
    "        if search_block_size > current_block_size:  # Recalculate free space\n",
    "            blocks.insert(idx_search + 1, (\".\", search_block_size - current_block_size))\n",
    "            idx_block += 1  # Compensate for list increasing in size\n",
    "\n",
    "        break\n",
    "\n",
    "    idx_block -= 1\n",
    "\n",
    "\n",
    "remove_trailing_free_space()\n",
    "checksum = 0\n",
    "current_idx = 0\n",
    "\n",
    "\n",
    "for block_value, block_size in blocks:\n",
    "    next_idx = current_idx + block_size\n",
    "\n",
    "    if block_value == \".\":\n",
    "        current_idx = next_idx\n",
    "        continue\n",
    "\n",
    "    sum_indexes = (next_idx + current_idx - 1) * block_size // 2\n",
    "    checksum += block_value * sum_indexes\n",
    "    current_idx = next_idx\n",
    "\n",
    "\n",
    "print(checksum)"
   ]
  }
 ],
 "metadata": {
  "kernelspec": {
   "display_name": "Python (myenv)",
   "language": "python",
   "name": "myenv"
  },
  "language_info": {
   "codemirror_mode": {
    "name": "ipython",
    "version": 3
   },
   "file_extension": ".py",
   "mimetype": "text/x-python",
   "name": "python",
   "nbconvert_exporter": "python",
   "pygments_lexer": "ipython3",
   "version": "3.12.1"
  }
 },
 "nbformat": 4,
 "nbformat_minor": 2
}
